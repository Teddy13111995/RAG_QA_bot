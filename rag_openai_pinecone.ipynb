{
 "cells": [
  {
   "cell_type": "markdown",
   "metadata": {
    "id": "ZLtWteB_qT04"
   },
   "source": [
    "1. Install the Dependencies"
   ]
  },
  {
   "cell_type": "code",
   "execution_count": 1,
   "metadata": {
    "colab": {
     "base_uri": "https://localhost:8080/"
    },
    "id": "gvzTrkh0oUSK",
    "outputId": "a745b1f2-0047-4bb4-b899-ab0933aaf665"
   },
   "outputs": [
    {
     "name": "stdout",
     "output_type": "stream",
     "text": [
      "Requirement already satisfied: openai in /usr/local/lib/python3.11/dist-packages (1.93.0)\n",
      "Requirement already satisfied: langchain in /usr/local/lib/python3.11/dist-packages (0.3.26)\n",
      "Collecting pymupdf\n",
      "  Downloading pymupdf-1.26.3-cp39-abi3-manylinux_2_28_x86_64.whl.metadata (3.4 kB)\n",
      "Requirement already satisfied: tqdm in /usr/local/lib/python3.11/dist-packages (4.67.1)\n",
      "Collecting pinecone\n",
      "  Downloading pinecone-7.3.0-py3-none-any.whl.metadata (9.5 kB)\n",
      "Requirement already satisfied: sentence-transformers in /usr/local/lib/python3.11/dist-packages (4.1.0)\n",
      "Collecting faiss-cpu\n",
      "  Downloading faiss_cpu-1.11.0-cp311-cp311-manylinux_2_28_x86_64.whl.metadata (4.8 kB)\n",
      "Requirement already satisfied: transformers in /usr/local/lib/python3.11/dist-packages (4.53.0)\n",
      "Requirement already satisfied: accelerate in /usr/local/lib/python3.11/dist-packages (1.8.1)\n",
      "Requirement already satisfied: anyio<5,>=3.5.0 in /usr/local/lib/python3.11/dist-packages (from openai) (4.9.0)\n",
      "Requirement already satisfied: distro<2,>=1.7.0 in /usr/local/lib/python3.11/dist-packages (from openai) (1.9.0)\n",
      "Requirement already satisfied: httpx<1,>=0.23.0 in /usr/local/lib/python3.11/dist-packages (from openai) (0.28.1)\n",
      "Requirement already satisfied: jiter<1,>=0.4.0 in /usr/local/lib/python3.11/dist-packages (from openai) (0.10.0)\n",
      "Requirement already satisfied: pydantic<3,>=1.9.0 in /usr/local/lib/python3.11/dist-packages (from openai) (2.11.7)\n",
      "Requirement already satisfied: sniffio in /usr/local/lib/python3.11/dist-packages (from openai) (1.3.1)\n",
      "Requirement already satisfied: typing-extensions<5,>=4.11 in /usr/local/lib/python3.11/dist-packages (from openai) (4.14.0)\n",
      "Requirement already satisfied: langchain-core<1.0.0,>=0.3.66 in /usr/local/lib/python3.11/dist-packages (from langchain) (0.3.67)\n",
      "Requirement already satisfied: langchain-text-splitters<1.0.0,>=0.3.8 in /usr/local/lib/python3.11/dist-packages (from langchain) (0.3.8)\n",
      "Requirement already satisfied: langsmith>=0.1.17 in /usr/local/lib/python3.11/dist-packages (from langchain) (0.4.4)\n",
      "Requirement already satisfied: SQLAlchemy<3,>=1.4 in /usr/local/lib/python3.11/dist-packages (from langchain) (2.0.41)\n",
      "Requirement already satisfied: requests<3,>=2 in /usr/local/lib/python3.11/dist-packages (from langchain) (2.32.3)\n",
      "Requirement already satisfied: PyYAML>=5.3 in /usr/local/lib/python3.11/dist-packages (from langchain) (6.0.2)\n",
      "Requirement already satisfied: certifi>=2019.11.17 in /usr/local/lib/python3.11/dist-packages (from pinecone) (2025.6.15)\n",
      "Collecting pinecone-plugin-assistant<2.0.0,>=1.6.0 (from pinecone)\n",
      "  Downloading pinecone_plugin_assistant-1.7.0-py3-none-any.whl.metadata (28 kB)\n",
      "Collecting pinecone-plugin-interface<0.0.8,>=0.0.7 (from pinecone)\n",
      "  Downloading pinecone_plugin_interface-0.0.7-py3-none-any.whl.metadata (1.2 kB)\n",
      "Requirement already satisfied: python-dateutil>=2.5.3 in /usr/local/lib/python3.11/dist-packages (from pinecone) (2.9.0.post0)\n",
      "Requirement already satisfied: urllib3>=1.26.0 in /usr/local/lib/python3.11/dist-packages (from pinecone) (2.4.0)\n",
      "Requirement already satisfied: torch>=1.11.0 in /usr/local/lib/python3.11/dist-packages (from sentence-transformers) (2.6.0+cu124)\n",
      "Requirement already satisfied: scikit-learn in /usr/local/lib/python3.11/dist-packages (from sentence-transformers) (1.6.1)\n",
      "Requirement already satisfied: scipy in /usr/local/lib/python3.11/dist-packages (from sentence-transformers) (1.15.3)\n",
      "Requirement already satisfied: huggingface-hub>=0.20.0 in /usr/local/lib/python3.11/dist-packages (from sentence-transformers) (0.33.1)\n",
      "Requirement already satisfied: Pillow in /usr/local/lib/python3.11/dist-packages (from sentence-transformers) (11.2.1)\n",
      "Requirement already satisfied: numpy<3.0,>=1.25.0 in /usr/local/lib/python3.11/dist-packages (from faiss-cpu) (2.0.2)\n",
      "Requirement already satisfied: packaging in /usr/local/lib/python3.11/dist-packages (from faiss-cpu) (24.2)\n",
      "Requirement already satisfied: filelock in /usr/local/lib/python3.11/dist-packages (from transformers) (3.18.0)\n",
      "Requirement already satisfied: regex!=2019.12.17 in /usr/local/lib/python3.11/dist-packages (from transformers) (2024.11.6)\n",
      "Requirement already satisfied: tokenizers<0.22,>=0.21 in /usr/local/lib/python3.11/dist-packages (from transformers) (0.21.2)\n",
      "Requirement already satisfied: safetensors>=0.4.3 in /usr/local/lib/python3.11/dist-packages (from transformers) (0.5.3)\n",
      "Requirement already satisfied: psutil in /usr/local/lib/python3.11/dist-packages (from accelerate) (5.9.5)\n",
      "Requirement already satisfied: idna>=2.8 in /usr/local/lib/python3.11/dist-packages (from anyio<5,>=3.5.0->openai) (3.10)\n",
      "Requirement already satisfied: httpcore==1.* in /usr/local/lib/python3.11/dist-packages (from httpx<1,>=0.23.0->openai) (1.0.9)\n",
      "Requirement already satisfied: h11>=0.16 in /usr/local/lib/python3.11/dist-packages (from httpcore==1.*->httpx<1,>=0.23.0->openai) (0.16.0)\n",
      "Requirement already satisfied: fsspec>=2023.5.0 in /usr/local/lib/python3.11/dist-packages (from huggingface-hub>=0.20.0->sentence-transformers) (2025.3.2)\n",
      "Requirement already satisfied: hf-xet<2.0.0,>=1.1.2 in /usr/local/lib/python3.11/dist-packages (from huggingface-hub>=0.20.0->sentence-transformers) (1.1.5)\n",
      "Requirement already satisfied: tenacity!=8.4.0,<10.0.0,>=8.1.0 in /usr/local/lib/python3.11/dist-packages (from langchain-core<1.0.0,>=0.3.66->langchain) (8.5.0)\n",
      "Requirement already satisfied: jsonpatch<2.0,>=1.33 in /usr/local/lib/python3.11/dist-packages (from langchain-core<1.0.0,>=0.3.66->langchain) (1.33)\n",
      "Requirement already satisfied: orjson<4.0.0,>=3.9.14 in /usr/local/lib/python3.11/dist-packages (from langsmith>=0.1.17->langchain) (3.10.18)\n",
      "Requirement already satisfied: requests-toolbelt<2.0.0,>=1.0.0 in /usr/local/lib/python3.11/dist-packages (from langsmith>=0.1.17->langchain) (1.0.0)\n",
      "Requirement already satisfied: zstandard<0.24.0,>=0.23.0 in /usr/local/lib/python3.11/dist-packages (from langsmith>=0.1.17->langchain) (0.23.0)\n",
      "Requirement already satisfied: annotated-types>=0.6.0 in /usr/local/lib/python3.11/dist-packages (from pydantic<3,>=1.9.0->openai) (0.7.0)\n",
      "Requirement already satisfied: pydantic-core==2.33.2 in /usr/local/lib/python3.11/dist-packages (from pydantic<3,>=1.9.0->openai) (2.33.2)\n",
      "Requirement already satisfied: typing-inspection>=0.4.0 in /usr/local/lib/python3.11/dist-packages (from pydantic<3,>=1.9.0->openai) (0.4.1)\n",
      "Requirement already satisfied: six>=1.5 in /usr/local/lib/python3.11/dist-packages (from python-dateutil>=2.5.3->pinecone) (1.17.0)\n",
      "Requirement already satisfied: charset-normalizer<4,>=2 in /usr/local/lib/python3.11/dist-packages (from requests<3,>=2->langchain) (3.4.2)\n",
      "Requirement already satisfied: greenlet>=1 in /usr/local/lib/python3.11/dist-packages (from SQLAlchemy<3,>=1.4->langchain) (3.2.3)\n",
      "Requirement already satisfied: networkx in /usr/local/lib/python3.11/dist-packages (from torch>=1.11.0->sentence-transformers) (3.5)\n",
      "Requirement already satisfied: jinja2 in /usr/local/lib/python3.11/dist-packages (from torch>=1.11.0->sentence-transformers) (3.1.6)\n",
      "Collecting nvidia-cuda-nvrtc-cu12==12.4.127 (from torch>=1.11.0->sentence-transformers)\n",
      "  Downloading nvidia_cuda_nvrtc_cu12-12.4.127-py3-none-manylinux2014_x86_64.whl.metadata (1.5 kB)\n",
      "Collecting nvidia-cuda-runtime-cu12==12.4.127 (from torch>=1.11.0->sentence-transformers)\n",
      "  Downloading nvidia_cuda_runtime_cu12-12.4.127-py3-none-manylinux2014_x86_64.whl.metadata (1.5 kB)\n",
      "Collecting nvidia-cuda-cupti-cu12==12.4.127 (from torch>=1.11.0->sentence-transformers)\n",
      "  Downloading nvidia_cuda_cupti_cu12-12.4.127-py3-none-manylinux2014_x86_64.whl.metadata (1.6 kB)\n",
      "Collecting nvidia-cudnn-cu12==9.1.0.70 (from torch>=1.11.0->sentence-transformers)\n",
      "  Downloading nvidia_cudnn_cu12-9.1.0.70-py3-none-manylinux2014_x86_64.whl.metadata (1.6 kB)\n",
      "Collecting nvidia-cublas-cu12==12.4.5.8 (from torch>=1.11.0->sentence-transformers)\n",
      "  Downloading nvidia_cublas_cu12-12.4.5.8-py3-none-manylinux2014_x86_64.whl.metadata (1.5 kB)\n",
      "Collecting nvidia-cufft-cu12==11.2.1.3 (from torch>=1.11.0->sentence-transformers)\n",
      "  Downloading nvidia_cufft_cu12-11.2.1.3-py3-none-manylinux2014_x86_64.whl.metadata (1.5 kB)\n",
      "Collecting nvidia-curand-cu12==10.3.5.147 (from torch>=1.11.0->sentence-transformers)\n",
      "  Downloading nvidia_curand_cu12-10.3.5.147-py3-none-manylinux2014_x86_64.whl.metadata (1.5 kB)\n",
      "Collecting nvidia-cusolver-cu12==11.6.1.9 (from torch>=1.11.0->sentence-transformers)\n",
      "  Downloading nvidia_cusolver_cu12-11.6.1.9-py3-none-manylinux2014_x86_64.whl.metadata (1.6 kB)\n",
      "Collecting nvidia-cusparse-cu12==12.3.1.170 (from torch>=1.11.0->sentence-transformers)\n",
      "  Downloading nvidia_cusparse_cu12-12.3.1.170-py3-none-manylinux2014_x86_64.whl.metadata (1.6 kB)\n",
      "Requirement already satisfied: nvidia-cusparselt-cu12==0.6.2 in /usr/local/lib/python3.11/dist-packages (from torch>=1.11.0->sentence-transformers) (0.6.2)\n",
      "Requirement already satisfied: nvidia-nccl-cu12==2.21.5 in /usr/local/lib/python3.11/dist-packages (from torch>=1.11.0->sentence-transformers) (2.21.5)\n",
      "Requirement already satisfied: nvidia-nvtx-cu12==12.4.127 in /usr/local/lib/python3.11/dist-packages (from torch>=1.11.0->sentence-transformers) (12.4.127)\n",
      "Collecting nvidia-nvjitlink-cu12==12.4.127 (from torch>=1.11.0->sentence-transformers)\n",
      "  Downloading nvidia_nvjitlink_cu12-12.4.127-py3-none-manylinux2014_x86_64.whl.metadata (1.5 kB)\n",
      "Requirement already satisfied: triton==3.2.0 in /usr/local/lib/python3.11/dist-packages (from torch>=1.11.0->sentence-transformers) (3.2.0)\n",
      "Requirement already satisfied: sympy==1.13.1 in /usr/local/lib/python3.11/dist-packages (from torch>=1.11.0->sentence-transformers) (1.13.1)\n",
      "Requirement already satisfied: mpmath<1.4,>=1.1.0 in /usr/local/lib/python3.11/dist-packages (from sympy==1.13.1->torch>=1.11.0->sentence-transformers) (1.3.0)\n",
      "Requirement already satisfied: joblib>=1.2.0 in /usr/local/lib/python3.11/dist-packages (from scikit-learn->sentence-transformers) (1.5.1)\n",
      "Requirement already satisfied: threadpoolctl>=3.1.0 in /usr/local/lib/python3.11/dist-packages (from scikit-learn->sentence-transformers) (3.6.0)\n",
      "Requirement already satisfied: jsonpointer>=1.9 in /usr/local/lib/python3.11/dist-packages (from jsonpatch<2.0,>=1.33->langchain-core<1.0.0,>=0.3.66->langchain) (3.0.0)\n",
      "Requirement already satisfied: MarkupSafe>=2.0 in /usr/local/lib/python3.11/dist-packages (from jinja2->torch>=1.11.0->sentence-transformers) (3.0.2)\n",
      "Downloading pymupdf-1.26.3-cp39-abi3-manylinux_2_28_x86_64.whl (24.1 MB)\n",
      "\u001b[2K   \u001b[90m━━━━━━━━━━━━━━━━━━━━━━━━━━━━━━━━━━━━━━━━\u001b[0m \u001b[32m24.1/24.1 MB\u001b[0m \u001b[31m38.5 MB/s\u001b[0m eta \u001b[36m0:00:00\u001b[0m\n",
      "\u001b[?25hDownloading pinecone-7.3.0-py3-none-any.whl (587 kB)\n",
      "\u001b[2K   \u001b[90m━━━━━━━━━━━━━━━━━━━━━━━━━━━━━━━━━━━━━━━━\u001b[0m \u001b[32m587.6/587.6 kB\u001b[0m \u001b[31m35.2 MB/s\u001b[0m eta \u001b[36m0:00:00\u001b[0m\n",
      "\u001b[?25hDownloading faiss_cpu-1.11.0-cp311-cp311-manylinux_2_28_x86_64.whl (31.3 MB)\n",
      "\u001b[2K   \u001b[90m━━━━━━━━━━━━━━━━━━━━━━━━━━━━━━━━━━━━━━━━\u001b[0m \u001b[32m31.3/31.3 MB\u001b[0m \u001b[31m14.5 MB/s\u001b[0m eta \u001b[36m0:00:00\u001b[0m\n",
      "\u001b[?25hDownloading pinecone_plugin_assistant-1.7.0-py3-none-any.whl (239 kB)\n",
      "\u001b[2K   \u001b[90m━━━━━━━━━━━━━━━━━━━━━━━━━━━━━━━━━━━━━━━━\u001b[0m \u001b[32m240.0/240.0 kB\u001b[0m \u001b[31m9.2 MB/s\u001b[0m eta \u001b[36m0:00:00\u001b[0m\n",
      "\u001b[?25hDownloading pinecone_plugin_interface-0.0.7-py3-none-any.whl (6.2 kB)\n",
      "Downloading nvidia_cublas_cu12-12.4.5.8-py3-none-manylinux2014_x86_64.whl (363.4 MB)\n",
      "\u001b[2K   \u001b[90m━━━━━━━━━━━━━━━━━━━━━━━━━━━━━━━━━━━━━━━━\u001b[0m \u001b[32m363.4/363.4 MB\u001b[0m \u001b[31m3.9 MB/s\u001b[0m eta \u001b[36m0:00:00\u001b[0m\n",
      "\u001b[?25hDownloading nvidia_cuda_cupti_cu12-12.4.127-py3-none-manylinux2014_x86_64.whl (13.8 MB)\n",
      "\u001b[2K   \u001b[90m━━━━━━━━━━━━━━━━━━━━━━━━━━━━━━━━━━━━━━━━\u001b[0m \u001b[32m13.8/13.8 MB\u001b[0m \u001b[31m47.1 MB/s\u001b[0m eta \u001b[36m0:00:00\u001b[0m\n",
      "\u001b[?25hDownloading nvidia_cuda_nvrtc_cu12-12.4.127-py3-none-manylinux2014_x86_64.whl (24.6 MB)\n",
      "\u001b[2K   \u001b[90m━━━━━━━━━━━━━━━━━━━━━━━━━━━━━━━━━━━━━━━━\u001b[0m \u001b[32m24.6/24.6 MB\u001b[0m \u001b[31m39.7 MB/s\u001b[0m eta \u001b[36m0:00:00\u001b[0m\n",
      "\u001b[?25hDownloading nvidia_cuda_runtime_cu12-12.4.127-py3-none-manylinux2014_x86_64.whl (883 kB)\n",
      "\u001b[2K   \u001b[90m━━━━━━━━━━━━━━━━━━━━━━━━━━━━━━━━━━━━━━━━\u001b[0m \u001b[32m883.7/883.7 kB\u001b[0m \u001b[31m28.1 MB/s\u001b[0m eta \u001b[36m0:00:00\u001b[0m\n",
      "\u001b[?25hDownloading nvidia_cudnn_cu12-9.1.0.70-py3-none-manylinux2014_x86_64.whl (664.8 MB)\n",
      "\u001b[2K   \u001b[90m━━━━━━━━━━━━━━━━━━━━━━━━━━━━━━━━━━━━━━━━\u001b[0m \u001b[32m664.8/664.8 MB\u001b[0m \u001b[31m2.2 MB/s\u001b[0m eta \u001b[36m0:00:00\u001b[0m\n",
      "\u001b[?25hDownloading nvidia_cufft_cu12-11.2.1.3-py3-none-manylinux2014_x86_64.whl (211.5 MB)\n",
      "\u001b[2K   \u001b[90m━━━━━━━━━━━━━━━━━━━━━━━━━━━━━━━━━━━━━━━━\u001b[0m \u001b[32m211.5/211.5 MB\u001b[0m \u001b[31m4.8 MB/s\u001b[0m eta \u001b[36m0:00:00\u001b[0m\n",
      "\u001b[?25hDownloading nvidia_curand_cu12-10.3.5.147-py3-none-manylinux2014_x86_64.whl (56.3 MB)\n",
      "\u001b[2K   \u001b[90m━━━━━━━━━━━━━━━━━━━━━━━━━━━━━━━━━━━━━━━━\u001b[0m \u001b[32m56.3/56.3 MB\u001b[0m \u001b[31m14.3 MB/s\u001b[0m eta \u001b[36m0:00:00\u001b[0m\n",
      "\u001b[?25hDownloading nvidia_cusolver_cu12-11.6.1.9-py3-none-manylinux2014_x86_64.whl (127.9 MB)\n",
      "\u001b[2K   \u001b[90m━━━━━━━━━━━━━━━━━━━━━━━━━━━━━━━━━━━━━━━━\u001b[0m \u001b[32m127.9/127.9 MB\u001b[0m \u001b[31m7.9 MB/s\u001b[0m eta \u001b[36m0:00:00\u001b[0m\n",
      "\u001b[?25hDownloading nvidia_cusparse_cu12-12.3.1.170-py3-none-manylinux2014_x86_64.whl (207.5 MB)\n",
      "\u001b[2K   \u001b[90m━━━━━━━━━━━━━━━━━━━━━━━━━━━━━━━━━━━━━━━━\u001b[0m \u001b[32m207.5/207.5 MB\u001b[0m \u001b[31m5.6 MB/s\u001b[0m eta \u001b[36m0:00:00\u001b[0m\n",
      "\u001b[?25hDownloading nvidia_nvjitlink_cu12-12.4.127-py3-none-manylinux2014_x86_64.whl (21.1 MB)\n",
      "\u001b[2K   \u001b[90m━━━━━━━━━━━━━━━━━━━━━━━━━━━━━━━━━━━━━━━━\u001b[0m \u001b[32m21.1/21.1 MB\u001b[0m \u001b[31m79.3 MB/s\u001b[0m eta \u001b[36m0:00:00\u001b[0m\n",
      "\u001b[?25hInstalling collected packages: pymupdf, pinecone-plugin-interface, nvidia-nvjitlink-cu12, nvidia-curand-cu12, nvidia-cufft-cu12, nvidia-cuda-runtime-cu12, nvidia-cuda-nvrtc-cu12, nvidia-cuda-cupti-cu12, nvidia-cublas-cu12, faiss-cpu, pinecone-plugin-assistant, nvidia-cusparse-cu12, nvidia-cudnn-cu12, pinecone, nvidia-cusolver-cu12\n",
      "  Attempting uninstall: nvidia-nvjitlink-cu12\n",
      "    Found existing installation: nvidia-nvjitlink-cu12 12.5.82\n",
      "    Uninstalling nvidia-nvjitlink-cu12-12.5.82:\n",
      "      Successfully uninstalled nvidia-nvjitlink-cu12-12.5.82\n",
      "  Attempting uninstall: nvidia-curand-cu12\n",
      "    Found existing installation: nvidia-curand-cu12 10.3.6.82\n",
      "    Uninstalling nvidia-curand-cu12-10.3.6.82:\n",
      "      Successfully uninstalled nvidia-curand-cu12-10.3.6.82\n",
      "  Attempting uninstall: nvidia-cufft-cu12\n",
      "    Found existing installation: nvidia-cufft-cu12 11.2.3.61\n",
      "    Uninstalling nvidia-cufft-cu12-11.2.3.61:\n",
      "      Successfully uninstalled nvidia-cufft-cu12-11.2.3.61\n",
      "  Attempting uninstall: nvidia-cuda-runtime-cu12\n",
      "    Found existing installation: nvidia-cuda-runtime-cu12 12.5.82\n",
      "    Uninstalling nvidia-cuda-runtime-cu12-12.5.82:\n",
      "      Successfully uninstalled nvidia-cuda-runtime-cu12-12.5.82\n",
      "  Attempting uninstall: nvidia-cuda-nvrtc-cu12\n",
      "    Found existing installation: nvidia-cuda-nvrtc-cu12 12.5.82\n",
      "    Uninstalling nvidia-cuda-nvrtc-cu12-12.5.82:\n",
      "      Successfully uninstalled nvidia-cuda-nvrtc-cu12-12.5.82\n",
      "  Attempting uninstall: nvidia-cuda-cupti-cu12\n",
      "    Found existing installation: nvidia-cuda-cupti-cu12 12.5.82\n",
      "    Uninstalling nvidia-cuda-cupti-cu12-12.5.82:\n",
      "      Successfully uninstalled nvidia-cuda-cupti-cu12-12.5.82\n",
      "  Attempting uninstall: nvidia-cublas-cu12\n",
      "    Found existing installation: nvidia-cublas-cu12 12.5.3.2\n",
      "    Uninstalling nvidia-cublas-cu12-12.5.3.2:\n",
      "      Successfully uninstalled nvidia-cublas-cu12-12.5.3.2\n",
      "  Attempting uninstall: nvidia-cusparse-cu12\n",
      "    Found existing installation: nvidia-cusparse-cu12 12.5.1.3\n",
      "    Uninstalling nvidia-cusparse-cu12-12.5.1.3:\n",
      "      Successfully uninstalled nvidia-cusparse-cu12-12.5.1.3\n",
      "  Attempting uninstall: nvidia-cudnn-cu12\n",
      "    Found existing installation: nvidia-cudnn-cu12 9.3.0.75\n",
      "    Uninstalling nvidia-cudnn-cu12-9.3.0.75:\n",
      "      Successfully uninstalled nvidia-cudnn-cu12-9.3.0.75\n",
      "  Attempting uninstall: nvidia-cusolver-cu12\n",
      "    Found existing installation: nvidia-cusolver-cu12 11.6.3.83\n",
      "    Uninstalling nvidia-cusolver-cu12-11.6.3.83:\n",
      "      Successfully uninstalled nvidia-cusolver-cu12-11.6.3.83\n",
      "Successfully installed faiss-cpu-1.11.0 nvidia-cublas-cu12-12.4.5.8 nvidia-cuda-cupti-cu12-12.4.127 nvidia-cuda-nvrtc-cu12-12.4.127 nvidia-cuda-runtime-cu12-12.4.127 nvidia-cudnn-cu12-9.1.0.70 nvidia-cufft-cu12-11.2.1.3 nvidia-curand-cu12-10.3.5.147 nvidia-cusolver-cu12-11.6.1.9 nvidia-cusparse-cu12-12.3.1.170 nvidia-nvjitlink-cu12-12.4.127 pinecone-7.3.0 pinecone-plugin-assistant-1.7.0 pinecone-plugin-interface-0.0.7 pymupdf-1.26.3\n"
     ]
    }
   ],
   "source": [
    "!pip install openai langchain pymupdf tqdm pinecone sentence-transformers faiss-cpu transformers accelerate"
   ]
  },
  {
   "cell_type": "markdown",
   "metadata": {
    "id": "1uAVcpbGqeSY"
   },
   "source": [
    "2. Import the required Packages"
   ]
  },
  {
   "cell_type": "code",
   "execution_count": 2,
   "metadata": {
    "id": "9K0ztopXoXp6"
   },
   "outputs": [],
   "source": [
    "import os\n",
    "import fitz\n",
    "import faiss\n",
    "import numpy as np\n",
    "from tqdm import tqdm\n",
    "from google.colab import files\n",
    "from langchain.text_splitter import RecursiveCharacterTextSplitter\n",
    "from sentence_transformers import SentenceTransformer\n",
    "from transformers import pipeline\n",
    "from openai import OpenAI\n",
    "from pinecone import Pinecone"
   ]
  },
  {
   "cell_type": "markdown",
   "metadata": {
    "id": "6P_gkCwsqw0E"
   },
   "source": [
    "3. Set OpenAi API Key, Pinecone API Key and Pinecone Index"
   ]
  },
  {
   "cell_type": "code",
   "execution_count": null,
   "metadata": {
    "colab": {
     "base_uri": "https://localhost:8080/"
    },
    "id": "OmEeTfoKocBQ",
    "outputId": "c3aac1d7-6d5c-4fe7-b7a7-52170e05d1a1"
   },
   "outputs": [
    {
     "name": "stdout",
     "output_type": "stream",
     "text": [
      "Enter your OpenAI API Key: ··········\n",
      "Enter your Pinecone API Key: ··········\n",
      "Enter Index Namedemo\n"
     ]
    }
   ],
   "source": [
    "import getpass\n",
    "openai_api_key = getpass.getpass(\"Enter your OpenAI API Key: \")\n",
    "client = OpenAI(api_key=openai_api_key)\n",
    "\n",
    "pinecone_api_key = getpass.getpass(\"Enter your Pinecone API Key: \")\n",
    "os.environ[\"PINECONE_API_KEY\"] = pinecone_api_key\n",
    "pc = Pinecone(api_key=pinecone_api_key)\n",
    "index_name = input(\"Enter Index Name\")\n",
    "index = pc.Index(index_name)"
   ]
  },
  {
   "cell_type": "markdown",
   "metadata": {
    "id": "08GBQQWAqy-X"
   },
   "source": [
    "4. Upload the required files (I am Loading my Resume)"
   ]
  },
  {
   "cell_type": "code",
   "execution_count": 3,
   "metadata": {
    "colab": {
     "base_uri": "https://localhost:8080/",
     "height": 69
    },
    "id": "9KUCZOGLoiAS",
    "outputId": "46087568-dc69-43f8-bcba-9ed81047d82a"
   },
   "outputs": [
    {
     "data": {
      "text/html": [
       "\n",
       "     <input type=\"file\" id=\"files-c4dbfeb7-801a-4856-b70b-709eb094cb96\" name=\"files[]\" multiple disabled\n",
       "        style=\"border:none\" />\n",
       "     <output id=\"result-c4dbfeb7-801a-4856-b70b-709eb094cb96\">\n",
       "      Upload widget is only available when the cell has been executed in the\n",
       "      current browser session. Please rerun this cell to enable.\n",
       "      </output>\n",
       "      <script>// Copyright 2017 Google LLC\n",
       "//\n",
       "// Licensed under the Apache License, Version 2.0 (the \"License\");\n",
       "// you may not use this file except in compliance with the License.\n",
       "// You may obtain a copy of the License at\n",
       "//\n",
       "//      http://www.apache.org/licenses/LICENSE-2.0\n",
       "//\n",
       "// Unless required by applicable law or agreed to in writing, software\n",
       "// distributed under the License is distributed on an \"AS IS\" BASIS,\n",
       "// WITHOUT WARRANTIES OR CONDITIONS OF ANY KIND, either express or implied.\n",
       "// See the License for the specific language governing permissions and\n",
       "// limitations under the License.\n",
       "\n",
       "/**\n",
       " * @fileoverview Helpers for google.colab Python module.\n",
       " */\n",
       "(function(scope) {\n",
       "function span(text, styleAttributes = {}) {\n",
       "  const element = document.createElement('span');\n",
       "  element.textContent = text;\n",
       "  for (const key of Object.keys(styleAttributes)) {\n",
       "    element.style[key] = styleAttributes[key];\n",
       "  }\n",
       "  return element;\n",
       "}\n",
       "\n",
       "// Max number of bytes which will be uploaded at a time.\n",
       "const MAX_PAYLOAD_SIZE = 100 * 1024;\n",
       "\n",
       "function _uploadFiles(inputId, outputId) {\n",
       "  const steps = uploadFilesStep(inputId, outputId);\n",
       "  const outputElement = document.getElementById(outputId);\n",
       "  // Cache steps on the outputElement to make it available for the next call\n",
       "  // to uploadFilesContinue from Python.\n",
       "  outputElement.steps = steps;\n",
       "\n",
       "  return _uploadFilesContinue(outputId);\n",
       "}\n",
       "\n",
       "// This is roughly an async generator (not supported in the browser yet),\n",
       "// where there are multiple asynchronous steps and the Python side is going\n",
       "// to poll for completion of each step.\n",
       "// This uses a Promise to block the python side on completion of each step,\n",
       "// then passes the result of the previous step as the input to the next step.\n",
       "function _uploadFilesContinue(outputId) {\n",
       "  const outputElement = document.getElementById(outputId);\n",
       "  const steps = outputElement.steps;\n",
       "\n",
       "  const next = steps.next(outputElement.lastPromiseValue);\n",
       "  return Promise.resolve(next.value.promise).then((value) => {\n",
       "    // Cache the last promise value to make it available to the next\n",
       "    // step of the generator.\n",
       "    outputElement.lastPromiseValue = value;\n",
       "    return next.value.response;\n",
       "  });\n",
       "}\n",
       "\n",
       "/**\n",
       " * Generator function which is called between each async step of the upload\n",
       " * process.\n",
       " * @param {string} inputId Element ID of the input file picker element.\n",
       " * @param {string} outputId Element ID of the output display.\n",
       " * @return {!Iterable<!Object>} Iterable of next steps.\n",
       " */\n",
       "function* uploadFilesStep(inputId, outputId) {\n",
       "  const inputElement = document.getElementById(inputId);\n",
       "  inputElement.disabled = false;\n",
       "\n",
       "  const outputElement = document.getElementById(outputId);\n",
       "  outputElement.innerHTML = '';\n",
       "\n",
       "  const pickedPromise = new Promise((resolve) => {\n",
       "    inputElement.addEventListener('change', (e) => {\n",
       "      resolve(e.target.files);\n",
       "    });\n",
       "  });\n",
       "\n",
       "  const cancel = document.createElement('button');\n",
       "  inputElement.parentElement.appendChild(cancel);\n",
       "  cancel.textContent = 'Cancel upload';\n",
       "  const cancelPromise = new Promise((resolve) => {\n",
       "    cancel.onclick = () => {\n",
       "      resolve(null);\n",
       "    };\n",
       "  });\n",
       "\n",
       "  // Wait for the user to pick the files.\n",
       "  const files = yield {\n",
       "    promise: Promise.race([pickedPromise, cancelPromise]),\n",
       "    response: {\n",
       "      action: 'starting',\n",
       "    }\n",
       "  };\n",
       "\n",
       "  cancel.remove();\n",
       "\n",
       "  // Disable the input element since further picks are not allowed.\n",
       "  inputElement.disabled = true;\n",
       "\n",
       "  if (!files) {\n",
       "    return {\n",
       "      response: {\n",
       "        action: 'complete',\n",
       "      }\n",
       "    };\n",
       "  }\n",
       "\n",
       "  for (const file of files) {\n",
       "    const li = document.createElement('li');\n",
       "    li.append(span(file.name, {fontWeight: 'bold'}));\n",
       "    li.append(span(\n",
       "        `(${file.type || 'n/a'}) - ${file.size} bytes, ` +\n",
       "        `last modified: ${\n",
       "            file.lastModifiedDate ? file.lastModifiedDate.toLocaleDateString() :\n",
       "                                    'n/a'} - `));\n",
       "    const percent = span('0% done');\n",
       "    li.appendChild(percent);\n",
       "\n",
       "    outputElement.appendChild(li);\n",
       "\n",
       "    const fileDataPromise = new Promise((resolve) => {\n",
       "      const reader = new FileReader();\n",
       "      reader.onload = (e) => {\n",
       "        resolve(e.target.result);\n",
       "      };\n",
       "      reader.readAsArrayBuffer(file);\n",
       "    });\n",
       "    // Wait for the data to be ready.\n",
       "    let fileData = yield {\n",
       "      promise: fileDataPromise,\n",
       "      response: {\n",
       "        action: 'continue',\n",
       "      }\n",
       "    };\n",
       "\n",
       "    // Use a chunked sending to avoid message size limits. See b/62115660.\n",
       "    let position = 0;\n",
       "    do {\n",
       "      const length = Math.min(fileData.byteLength - position, MAX_PAYLOAD_SIZE);\n",
       "      const chunk = new Uint8Array(fileData, position, length);\n",
       "      position += length;\n",
       "\n",
       "      const base64 = btoa(String.fromCharCode.apply(null, chunk));\n",
       "      yield {\n",
       "        response: {\n",
       "          action: 'append',\n",
       "          file: file.name,\n",
       "          data: base64,\n",
       "        },\n",
       "      };\n",
       "\n",
       "      let percentDone = fileData.byteLength === 0 ?\n",
       "          100 :\n",
       "          Math.round((position / fileData.byteLength) * 100);\n",
       "      percent.textContent = `${percentDone}% done`;\n",
       "\n",
       "    } while (position < fileData.byteLength);\n",
       "  }\n",
       "\n",
       "  // All done.\n",
       "  yield {\n",
       "    response: {\n",
       "      action: 'complete',\n",
       "    }\n",
       "  };\n",
       "}\n",
       "\n",
       "scope.google = scope.google || {};\n",
       "scope.google.colab = scope.google.colab || {};\n",
       "scope.google.colab._files = {\n",
       "  _uploadFiles,\n",
       "  _uploadFilesContinue,\n",
       "};\n",
       "})(self);\n",
       "</script> "
      ],
      "text/plain": [
       "<IPython.core.display.HTML object>"
      ]
     },
     "metadata": {},
     "output_type": "display_data"
    },
    {
     "name": "stdout",
     "output_type": "stream",
     "text": [
      "Saving resume.pdf to resume.pdf\n"
     ]
    }
   ],
   "source": [
    "uploaded_files = files.upload()"
   ]
  },
  {
   "cell_type": "markdown",
   "metadata": {
    "id": "0pfaMLicrKLC"
   },
   "source": [
    "5. Extraction and splitting Text from uploaded file(s)"
   ]
  },
  {
   "cell_type": "code",
   "execution_count": 4,
   "metadata": {
    "colab": {
     "base_uri": "https://localhost:8080/"
    },
    "id": "cffXLmh8oqCv",
    "outputId": "6b2c29f6-061b-4220-f1a8-fbe5ebe03b77"
   },
   "outputs": [
    {
     "name": "stdout",
     "output_type": "stream",
     "text": [
      "Chunks Created: 11\n"
     ]
    }
   ],
   "source": [
    "def extract_text_from_file(file_path):\n",
    "    if file_path.endswith(\".pdf\"):\n",
    "        doc = fitz.open(file_path)\n",
    "        return \"\\n\".join([page.get_text() for page in doc])\n",
    "    elif file_path.endswith(\".txt\"):\n",
    "        with open(file_path, \"r\", encoding=\"utf-8\") as f:\n",
    "            return f.read()\n",
    "    else:\n",
    "        raise ValueError(\"Unsupported file type\")\n",
    "\n",
    "text_splitter = RecursiveCharacterTextSplitter(chunk_size=500, chunk_overlap=50)\n",
    "documents = []\n",
    "for filename in uploaded_files.keys():\n",
    "    raw_text = extract_text_from_file(filename)\n",
    "    chunks = text_splitter.split_text(raw_text)\n",
    "    for i, chunk in enumerate(chunks):\n",
    "        documents.append({\"id\": f\"{filename}-{i}\", \"text\": chunk, \"metadata\": {\"source\": filename}})\n",
    "print(f\"Chunks Created: {len(documents)}\")\n"
   ]
  },
  {
   "cell_type": "markdown",
   "metadata": {
    "id": "vHB0Q1_MrbyN"
   },
   "source": [
    "6. Generate Embeddings and creating FAISS Index"
   ]
  },
  {
   "cell_type": "code",
   "execution_count": 5,
   "metadata": {
    "colab": {
     "base_uri": "https://localhost:8080/",
     "height": 523,
     "referenced_widgets": [
      "267c18859c4e4291a470c74b90f5b194",
      "71ba49a4d2744945971a9d75946ef931",
      "0fdb4834a8ef4847a9c30d9cc4bf756b",
      "b8e6ac831f87458f90067360f49bdf07",
      "0a042559876042e6ade0718bd8355ec9",
      "0ee10b2bfe9b4fb6897fe56e6b84450c",
      "e63cbc70337b44039daedae0b0d63665",
      "7c34384d4ba3493196fb6c5ba255da77",
      "ca0c4865e02e41de9b7d4bd36afd7a5e",
      "ba032d7ac86840cea9dc59106bc59ba4",
      "923da689a87e401ca098da803b425163",
      "eb5ef9301a594d2792a50437d218ab44",
      "ab7401b33a8b41ec824f41594879b759",
      "7e47ece925af479b9e2521f1a90e6815",
      "d848ca8c45c64ea3825a2c1989dcdfcf",
      "99c649eaccce404688cbb79525a864f5",
      "4f4dcfbd15664a4eb069bc3e1b56eef6",
      "14aa435771c041b18c56f2d02e0a3aab",
      "508cdb32630f40c9afa94858d34eba35",
      "f7f562cf2e574508aa52c5e03d7f12f2",
      "56f3ee39c529491ea70da07cae1d729e",
      "4a286d938f3546ac9aa56b00efbb8f90",
      "9ec3ca1a76b44a2795feb1c6892b42ce",
      "99da12e5bbee44c2ba5b25956cb4a7b6",
      "3be3b70403f84291892d68bf217ecf54",
      "8c93b9016a8a454880a402c99db8a7ea",
      "17b73aae25fa40b3a871a984b4800496",
      "dfa8916b65b54b5ab6c5241150129f03",
      "3a24d5fe985c4b7a999ddb3c2cb7f4b7",
      "6121ea5ba7db45a8b2b749e410b9181e",
      "b7a556ee4601467fa82a33e7394ae3a2",
      "82871e1edaa048bbb30c5d634460c308",
      "16fef826e0c540cf93b72b785ad4391b",
      "b8436192146f4d2092ecaa7c812fb215",
      "6f0e842592084f44af33b7f62e82e2a7",
      "43a8cffbe82d4a388387fb09372b12c8",
      "850058cafc504859a964458f3ed4b6fc",
      "0390d832ef644fe98d3d383abd560aeb",
      "030a1465291b4b94b4c3facdb9ebbf7d",
      "7e6d6632252640a9823369da24e01302",
      "5e65e4cbaa0e4c34a5d82e9369609186",
      "f25d233aafa74689ae79f36520ea3f88",
      "46178ad5871c476fbe9bdb2eb68ead4a",
      "b723ac1043db41f9ad704a8b7058e442",
      "91c6ceb7343e4d51a7a33ad1b4df125d",
      "2c7268c299c54eeb902a7a6637206747",
      "031a3193f8e04765b57365f32a116f9b",
      "2eb3ea4a4f61452390c2eb32d45da535",
      "31be3b4dd1154442a572cd9343492e94",
      "4f9c06f739cb406ba940f9c0ff1e7fec",
      "2638dea71ea9434a8904aaadb5907477",
      "b9ab762a9fee4b578524f98fc2d9d155",
      "20d796617c044c5f947834f76d139f18",
      "d382b21b817c4dcf9e6d5c3736d54035",
      "c26521fa26a542708ff8f5b7b450512d",
      "d56d2ff8217a42d79bffd9bba35d5efa",
      "8466289de81a44ee82c3765ca1ac8fbf",
      "b021ad053d25491b84816e2200bbc86f",
      "128ad498e7304cec9f3091ef976dc1b1",
      "cfd7a0953815427a8eeb6c250241eee0",
      "9b7f2bc498e542229d19f1b5b01e7f03",
      "e03b9e5d754d4a72b50213397763c5b8",
      "4df36184da674eecbd861806dbf5ab42",
      "50be9eb3a0a042249b50c9efe5e03399",
      "61b391d8cd2e4dcea4d09f40c4cb2194",
      "79a270de684346859cb5ad91a788eb94",
      "19c959612e5f49eb9901c7094bb988d5",
      "20755456accc49598e506bde99f39f01",
      "a0bde208d1f040bba8d1e6bacd3b62ca",
      "6352dc2e042d4b22a4388b80264ccd95",
      "7664f4e453694b1abe5d7d96fa8826c9",
      "a16414eeca1544b7b5f0120f686c0ab2",
      "2567ba1373024c89a4537436794cd3ec",
      "ca0307df0e6a462ea435f0950990c1c0",
      "212029615e4843ae9183379ce62bdc40",
      "79ac416d16194d69b573d0c7480c5f29",
      "c2adc02c621d4fd1afadf74948c2dde5",
      "e7774f4efa6d49de9c2007a8c1451ddc",
      "735497677ce44c8bb069ccda97b22f02",
      "428a6180f3af439b9d9c9ed284af78f7",
      "91297093d62c480f9028075166431dfe",
      "e57cb4b2db3a4db4a4d92fdb0dd3392d",
      "a5a1935210da471899d806e594f540d3",
      "ad9aa4779d154f008d04ac55d771af59",
      "5ffc27d40d8646f7a39f6b02b4f39147",
      "540c8b31c20f4647b4c0b51925a2984c",
      "24a0a405e6134750922f0d9e9be5130b",
      "b54655c67cf7473b902cb4a3a347d8bc",
      "49ce51409d0d4a2c945cfedfc7afa4ac",
      "9717c7da113d46efbcd896dfec1e6b14",
      "33e510ee090845c7bd75e4df894ba863",
      "4016908664154aa185307822426fd8b2",
      "0e2d620fd47548d7b8d41dbcc744fb87",
      "b62d5abb478344c896b8f995046ea979",
      "739a0280ebf1432cb94229ab8b86d7cd",
      "335af5daff5344aa8f9530de0d72e411",
      "8199b9e7d6ed4eefa9b0e725fc1ad3a3",
      "97d68df5c1184c5cb96851cc499fddd6",
      "63bf584faf65448092d94074fdba3a74",
      "70b7f18ca2e14169bfdaac510e808eec",
      "6625b3ef862c4a6d9b4c150093be71ff",
      "610c170ed2404c0284412441bfc832d6",
      "adbbe8f26dcb4a659cb33f2673c9e7b5",
      "7390310471384744ba9999ac1d626b48",
      "6c24765b91d84756971eb7ca8cb42584",
      "6396532c5e274a3abe54272c2f9c340d",
      "7b1ae71c13804d98b042aa88550adda2",
      "6824844bae1e40e492eb8e2edc147b55",
      "2be38786e2824553a5e17b052f925900",
      "f639c22da29e42c7a179678b14847cba",
      "00255caf1f674186ac54e66031f4431a",
      "c8211df03b81412b879d2dd480c8546a",
      "8844d88400b44b0e9f7b79b9e466c7dc",
      "4fa1a41c5db04a868d3c8adb8474d06c",
      "ed193185f2aa4c768a8def9ac335c628",
      "d34cab0528ce418884ac841dd2f0160c",
      "ee85ed93460d4dccacc3acdffa056904",
      "5c960617529f4a0cbd968f9dd4794bd2",
      "cd2f17ce5bab4654b79f6b824bbb84f7",
      "391cf6e0e9c049ccb6fe82b1ab55afaa",
      "2e692e7e640842208e18db9f58600b37",
      "44537a42f6ca41a69189923da5a4dff3",
      "31dd096adffc445aa49ebe6f8b5df73f",
      "cb5cc0a82389403796c34dcfbe7dffa6",
      "616f5a1a23004fb5b1026a28f19b8a90",
      "71e8d6eae81b41f78fa78711796b7d19",
      "a291ddfaed664aa2846594a5c687097c",
      "8bac027b7d084231a2b05d5767b96fe3",
      "25f6d05ba1e44050ac87834dc0ac837f",
      "588436d75c1e43218b75a3fa94cc4331",
      "575fa6d3ba984ad8b4008663143b971b",
      "fbe9f10dd0e34d56ac3a56aabe2530eb"
     ]
    },
    "id": "3u6j4poeow1U",
    "outputId": "3b5b26c7-2606-468f-bf1a-76b27e7b72d9"
   },
   "outputs": [
    {
     "name": "stderr",
     "output_type": "stream",
     "text": [
      "/usr/local/lib/python3.11/dist-packages/huggingface_hub/utils/_auth.py:94: UserWarning: \n",
      "The secret `HF_TOKEN` does not exist in your Colab secrets.\n",
      "To authenticate with the Hugging Face Hub, create a token in your settings tab (https://huggingface.co/settings/tokens), set it as secret in your Google Colab and restart your session.\n",
      "You will be able to reuse this secret in all of your notebooks.\n",
      "Please note that authentication is recommended but still optional to access public models or datasets.\n",
      "  warnings.warn(\n"
     ]
    },
    {
     "data": {
      "application/vnd.jupyter.widget-view+json": {
       "model_id": "267c18859c4e4291a470c74b90f5b194",
       "version_major": 2,
       "version_minor": 0
      },
      "text/plain": [
       "modules.json:   0%|          | 0.00/349 [00:00<?, ?B/s]"
      ]
     },
     "metadata": {},
     "output_type": "display_data"
    },
    {
     "data": {
      "application/vnd.jupyter.widget-view+json": {
       "model_id": "eb5ef9301a594d2792a50437d218ab44",
       "version_major": 2,
       "version_minor": 0
      },
      "text/plain": [
       "config_sentence_transformers.json:   0%|          | 0.00/116 [00:00<?, ?B/s]"
      ]
     },
     "metadata": {},
     "output_type": "display_data"
    },
    {
     "data": {
      "application/vnd.jupyter.widget-view+json": {
       "model_id": "9ec3ca1a76b44a2795feb1c6892b42ce",
       "version_major": 2,
       "version_minor": 0
      },
      "text/plain": [
       "README.md: 0.00B [00:00, ?B/s]"
      ]
     },
     "metadata": {},
     "output_type": "display_data"
    },
    {
     "data": {
      "application/vnd.jupyter.widget-view+json": {
       "model_id": "b8436192146f4d2092ecaa7c812fb215",
       "version_major": 2,
       "version_minor": 0
      },
      "text/plain": [
       "sentence_bert_config.json:   0%|          | 0.00/53.0 [00:00<?, ?B/s]"
      ]
     },
     "metadata": {},
     "output_type": "display_data"
    },
    {
     "data": {
      "application/vnd.jupyter.widget-view+json": {
       "model_id": "91c6ceb7343e4d51a7a33ad1b4df125d",
       "version_major": 2,
       "version_minor": 0
      },
      "text/plain": [
       "config.json:   0%|          | 0.00/612 [00:00<?, ?B/s]"
      ]
     },
     "metadata": {},
     "output_type": "display_data"
    },
    {
     "data": {
      "application/vnd.jupyter.widget-view+json": {
       "model_id": "d56d2ff8217a42d79bffd9bba35d5efa",
       "version_major": 2,
       "version_minor": 0
      },
      "text/plain": [
       "model.safetensors:   0%|          | 0.00/90.9M [00:00<?, ?B/s]"
      ]
     },
     "metadata": {},
     "output_type": "display_data"
    },
    {
     "data": {
      "application/vnd.jupyter.widget-view+json": {
       "model_id": "19c959612e5f49eb9901c7094bb988d5",
       "version_major": 2,
       "version_minor": 0
      },
      "text/plain": [
       "tokenizer_config.json:   0%|          | 0.00/350 [00:00<?, ?B/s]"
      ]
     },
     "metadata": {},
     "output_type": "display_data"
    },
    {
     "data": {
      "application/vnd.jupyter.widget-view+json": {
       "model_id": "e7774f4efa6d49de9c2007a8c1451ddc",
       "version_major": 2,
       "version_minor": 0
      },
      "text/plain": [
       "vocab.txt: 0.00B [00:00, ?B/s]"
      ]
     },
     "metadata": {},
     "output_type": "display_data"
    },
    {
     "data": {
      "application/vnd.jupyter.widget-view+json": {
       "model_id": "49ce51409d0d4a2c945cfedfc7afa4ac",
       "version_major": 2,
       "version_minor": 0
      },
      "text/plain": [
       "tokenizer.json: 0.00B [00:00, ?B/s]"
      ]
     },
     "metadata": {},
     "output_type": "display_data"
    },
    {
     "data": {
      "application/vnd.jupyter.widget-view+json": {
       "model_id": "70b7f18ca2e14169bfdaac510e808eec",
       "version_major": 2,
       "version_minor": 0
      },
      "text/plain": [
       "special_tokens_map.json:   0%|          | 0.00/112 [00:00<?, ?B/s]"
      ]
     },
     "metadata": {},
     "output_type": "display_data"
    },
    {
     "data": {
      "application/vnd.jupyter.widget-view+json": {
       "model_id": "00255caf1f674186ac54e66031f4431a",
       "version_major": 2,
       "version_minor": 0
      },
      "text/plain": [
       "config.json:   0%|          | 0.00/190 [00:00<?, ?B/s]"
      ]
     },
     "metadata": {},
     "output_type": "display_data"
    },
    {
     "data": {
      "application/vnd.jupyter.widget-view+json": {
       "model_id": "44537a42f6ca41a69189923da5a4dff3",
       "version_major": 2,
       "version_minor": 0
      },
      "text/plain": [
       "Batches:   0%|          | 0/1 [00:00<?, ?it/s]"
      ]
     },
     "metadata": {},
     "output_type": "display_data"
    }
   ],
   "source": [
    "embed_model = SentenceTransformer('all-MiniLM-L6-v2')\n",
    "texts = [doc[\"text\"] for doc in documents]\n",
    "metas = [doc[\"metadata\"] for doc in documents]\n",
    "ids = [doc[\"id\"] for doc in documents]\n",
    "embeddings = embed_model.encode(texts, show_progress_bar=True)\n",
    "dimension = embeddings.shape[1]\n",
    "faiss_index = faiss.IndexFlatL2(dimension)\n",
    "faiss_index.add(np.array(embeddings))\n",
    "doc_lookup = {i: {\"text\": texts[i], \"metadata\": metas[i]} for i in range(len(texts))}"
   ]
  },
  {
   "cell_type": "markdown",
   "metadata": {
    "id": "l8jV5-aCrkkL"
   },
   "source": [
    "7. Function for retreiving top queries(change value of k as per requirements)"
   ]
  },
  {
   "cell_type": "code",
   "execution_count": 6,
   "metadata": {
    "id": "ns38k7cUp4Fl"
   },
   "outputs": [],
   "source": [
    "def retrieve_top_k(query, k=3):\n",
    "    query_vec = embed_model.encode([query])\n",
    "    distances, indices = faiss_index.search(np.array(query_vec), k)\n",
    "    return [doc_lookup[idx][\"text\"] for idx in indices[0]]"
   ]
  },
  {
   "cell_type": "markdown",
   "metadata": {
    "id": "WWBGUAzlrx_1"
   },
   "source": [
    "8. Setup the function for answering questions Using FLAN-T5 (Offline QA)[I have free usage policy for both OpenAI and pinecone]"
   ]
  },
  {
   "cell_type": "code",
   "execution_count": 7,
   "metadata": {
    "id": "noiplD5No0n_"
   },
   "outputs": [],
   "source": [
    "def answer_query_offline(query, k=3):\n",
    "    top_chunks = retrieve_top_k(query, k)\n",
    "    context = \"\\n\\n\".join(top_chunks)\n",
    "    prompt = f\"Answer the question based on the following context:\\n\\n{context}\\n\\nQuestion: {query}\"\n",
    "    model = pipeline(\"text2text-generation\", model=\"google/flan-t5-base\", max_length=512)\n",
    "    response = model(prompt)\n",
    "    return response[0]['generated_text']"
   ]
  },
  {
   "cell_type": "markdown",
   "metadata": {
    "id": "xq037KlisIms"
   },
   "source": [
    "9. Querying the model and getting the answers"
   ]
  },
  {
   "cell_type": "code",
   "execution_count": 8,
   "metadata": {
    "colab": {
     "base_uri": "https://localhost:8080/",
     "height": 686,
     "referenced_widgets": [
      "d18a4cc651cf4d81ab6f7d631975a3e7",
      "d87b7d92882548679193545d8b3e5c07",
      "864135aebb604d1bbbf34099ce61f235",
      "8c5ca729b8304e81b4280c78a309fbf8",
      "6d67fa0364d449e9b6f7ce9db725f8f4",
      "2f5d7ac0446b44c78f4b98b2f379e203",
      "f3a198aeccce44e48649b42681c20682",
      "f127c10115494431ac1acca3ad911e92",
      "b4d98a253f904d049d5c452cb9f796eb",
      "8b822c2a286f48e897d4648b66050b2e",
      "ef74ca0db17343109a065ca73890e14c",
      "afca1a24527c42bcafd092ff9c334b43",
      "b45f45d5fdba4a8c9968611bec72a4f8",
      "c2d20ecca8a84b6399f87bb90eed4694",
      "ac9a9b48fe4d4ddbaef87f6a6826d7ba",
      "87e15c8fed034b468fdf63a26e69a0fe",
      "2826f014582a45518fe0d6881e415ad6",
      "df3cd4a170564082b630ca0f6d779c17",
      "2adc00cb4b914af4a51b1da8d3a2431f",
      "e7bfc57641ff4771880c68868b860332",
      "a7ccd92eab1145b49c54f1b381bcc837",
      "b75a50f7d2494a8e93fac294e678c9e6",
      "2d92c4eff02e4577af934fe3fe4360c5",
      "5209fca43deb4297816f48dc4d2da3d4",
      "0b27e802529947c0ab7895f26be6de69",
      "e4d0cca6c328497aa5e45c60adc98849",
      "bd42da5b80c94acb85fcafd57899a29d",
      "4aef122851d843a98e37c7d6ca643ce3",
      "bbe8a4d386f644969881e86c722ac106",
      "79ec98c653ee44458aa07c29a9f85434",
      "6075d71fa5ca4a17aedbb6853066a6e5",
      "1eb89b75b7ad4412ae34518036ca3ac5",
      "dcadf605b31743a7b0708983f6baa376",
      "c835846893d443b1bb8da910d55d0fa4",
      "469b8e76ae554bcfbad65a2c180a2c7b",
      "cdda41109ac94b47900885fd6a930d36",
      "7c83ff5a6769483ea6dacbd6ded9ddc5",
      "f55dea1435ba49d095f1f944af823579",
      "ecaa2b4166b443188c7ff66835b9cdb9",
      "c2412856a837433a98a7622a3566f377",
      "16b2d466e0574860bcb0f59edf7802d4",
      "b56839ad9cae470db32dd9f600992b26",
      "3d70446d87f24b74a8fcecab058f1cfa",
      "b016c5274ae346d2a6ed75fb7b0d2e0d",
      "804a8ecd817d43ca99ecd5455e2872d7",
      "b6fda98186e14ce99e1b4fc8d592c0ad",
      "2b73cad591d843eb8825d13b639ee6aa",
      "bc5e974b1c974257890a65ec2cae426a",
      "36abc555b9824767b0be03ffef6fc39a",
      "c2d84ff36dff45b38af4a10c1d214eaf",
      "3675e2c8da2742d48285c2648d4e8e7d",
      "05632d1ae03243208adfbe4bbb3110e1",
      "10e891aafc9c46a389d4a93357f49d3a",
      "416cf31a77d142d898fb05cea3e18537",
      "b05c504608a3401c8516d9d17efbc28c",
      "d88a2375dcc2499795fe2a053262d215",
      "75d4c3e138174211a9d89a95fd8d793d",
      "ae3ffd90328e4a12beae5c4d02d3a6be",
      "6b427679a8204527b63ab707f8b53668",
      "52e3688fe86f405f80e2ba365c3ec0b6",
      "347ba552e75e4a35aa06cc53a1d7984a",
      "2bf43c2638ea42a6a01143270131f142",
      "5def1d66f3cb4587bce2c4017664dc59",
      "7dc916f8630649d1995010601b213c46",
      "5ca1aa9044a3438faf1c45518c9bc766",
      "22a69a1a0ee34993b7f287e71901458b",
      "91e6a9b533c24f368d33b36323eca662",
      "82873fb898854d2abfd77bbf2398e06c",
      "9e5a4a926a7d4e09887cd3281b4a7df7",
      "e947f91edcef4db496a2ac8ceddf325e",
      "d9d316fc27104ffdb634f3aa5839cd8f",
      "d2f5367e3ce1419a82c0d9d0b39ff24a",
      "22f3174782754fe18b426f789e92c07a",
      "6e705e5c2cd14c56bfc8f99abf6df99c",
      "a15128e9ab0545699a64602c10b7e393",
      "b623b9ee4ff9454285e0d92a9ab7bcf1",
      "77df4c4d606d49539cbe0f14a60d5141"
     ]
    },
    "id": "PJ3CBnNhpw7D",
    "outputId": "dc5ce83f-e05c-422c-fad8-10fce4f7f0d7"
   },
   "outputs": [
    {
     "name": "stdout",
     "output_type": "stream",
     "text": [
      "\n",
      "Ask a question (or type 'exit' to quit): Find the total months of experience.\n"
     ]
    },
    {
     "data": {
      "application/vnd.jupyter.widget-view+json": {
       "model_id": "d18a4cc651cf4d81ab6f7d631975a3e7",
       "version_major": 2,
       "version_minor": 0
      },
      "text/plain": [
       "config.json: 0.00B [00:00, ?B/s]"
      ]
     },
     "metadata": {},
     "output_type": "display_data"
    },
    {
     "data": {
      "application/vnd.jupyter.widget-view+json": {
       "model_id": "afca1a24527c42bcafd092ff9c334b43",
       "version_major": 2,
       "version_minor": 0
      },
      "text/plain": [
       "model.safetensors:   0%|          | 0.00/990M [00:00<?, ?B/s]"
      ]
     },
     "metadata": {},
     "output_type": "display_data"
    },
    {
     "data": {
      "application/vnd.jupyter.widget-view+json": {
       "model_id": "2d92c4eff02e4577af934fe3fe4360c5",
       "version_major": 2,
       "version_minor": 0
      },
      "text/plain": [
       "generation_config.json:   0%|          | 0.00/147 [00:00<?, ?B/s]"
      ]
     },
     "metadata": {},
     "output_type": "display_data"
    },
    {
     "data": {
      "application/vnd.jupyter.widget-view+json": {
       "model_id": "c835846893d443b1bb8da910d55d0fa4",
       "version_major": 2,
       "version_minor": 0
      },
      "text/plain": [
       "tokenizer_config.json: 0.00B [00:00, ?B/s]"
      ]
     },
     "metadata": {},
     "output_type": "display_data"
    },
    {
     "data": {
      "application/vnd.jupyter.widget-view+json": {
       "model_id": "804a8ecd817d43ca99ecd5455e2872d7",
       "version_major": 2,
       "version_minor": 0
      },
      "text/plain": [
       "spiece.model:   0%|          | 0.00/792k [00:00<?, ?B/s]"
      ]
     },
     "metadata": {},
     "output_type": "display_data"
    },
    {
     "data": {
      "application/vnd.jupyter.widget-view+json": {
       "model_id": "d88a2375dcc2499795fe2a053262d215",
       "version_major": 2,
       "version_minor": 0
      },
      "text/plain": [
       "tokenizer.json: 0.00B [00:00, ?B/s]"
      ]
     },
     "metadata": {},
     "output_type": "display_data"
    },
    {
     "data": {
      "application/vnd.jupyter.widget-view+json": {
       "model_id": "91e6a9b533c24f368d33b36323eca662",
       "version_major": 2,
       "version_minor": 0
      },
      "text/plain": [
       "special_tokens_map.json: 0.00B [00:00, ?B/s]"
      ]
     },
     "metadata": {},
     "output_type": "display_data"
    },
    {
     "name": "stderr",
     "output_type": "stream",
     "text": [
      "Device set to use cuda:0\n"
     ]
    },
    {
     "name": "stdout",
     "output_type": "stream",
     "text": [
      "Answer:\n",
      " 12\n",
      "\n",
      "Ask a question (or type 'exit' to quit): Show experience details\n"
     ]
    },
    {
     "name": "stderr",
     "output_type": "stream",
     "text": [
      "Device set to use cuda:0\n"
     ]
    },
    {
     "name": "stdout",
     "output_type": "stream",
     "text": [
      "Answer:\n",
      " What do you need to know about Srijan Gupta?\n",
      "\n",
      "Ask a question (or type 'exit' to quit): What is Srijan Gupta job wise experience?\n"
     ]
    },
    {
     "name": "stderr",
     "output_type": "stream",
     "text": [
      "Device set to use cuda:0\n"
     ]
    },
    {
     "name": "stdout",
     "output_type": "stream",
     "text": [
      "Answer:\n",
      " over a year of hands-on experience in machine learning, data processing, and system simulation\n",
      "\n",
      "Ask a question (or type 'exit' to quit): Give detailed job experience \n"
     ]
    },
    {
     "name": "stderr",
     "output_type": "stream",
     "text": [
      "Device set to use cuda:0\n"
     ]
    },
    {
     "name": "stdout",
     "output_type": "stream",
     "text": [
      "Answer:\n",
      " I am currently pursuing my Master’s in Computer Science, with over a year of hands-on\n",
      "experience in machine learning, data processing, and system simulation. I am skilled in Python for\n",
      "data manipulation and extraction, with proficiency in libraries such as NumPy, SciPy, Dash, and Pandas.\n",
      "Additionally, through various research projects, coursework, and internships, I have gained experience in APPLICATIONS.\n",
      "\n",
      "Ask a question (or type 'exit' to quit): exit\n"
     ]
    }
   ],
   "source": [
    "def format_answer(text, words_per_line=15):\n",
    "    words = text.split()\n",
    "    lines = [' '.join(words[i:i+words_per_line]) for i in range(0, len(words), words_per_line)]\n",
    "    return '\\n'.join(lines)\n",
    "\n",
    "while True:\n",
    "    query = input(\"\\nAsk a question (or type 'exit' to quit): \")\n",
    "    if query.lower() == 'exit':\n",
    "        break\n",
    "    answer = answer_query_offline(query)\n",
    "    print(\"Answer:\\n\", format_answer(answer))\n"
   ]
  }
 ],
 "metadata": {
  "accelerator": "GPU",
  "colab": {
   "gpuType": "T4",
   "provenance": []
  },
  "kernelspec": {
   "display_name": "Python 3",
   "name": "python3"
  },
  "language_info": {
   "name": "python"
  }
 },
 "nbformat": 4,
 "nbformat_minor": 0
}
